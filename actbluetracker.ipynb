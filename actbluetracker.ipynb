{
 "cells": [
  {
   "cell_type": "code",
   "execution_count": 121,
   "metadata": {},
   "outputs": [],
   "source": [
    "import pandas as pd\n",
    "import plotly.express as px\n",
    "from dash import Dash"
   ]
  },
  {
   "cell_type": "markdown",
   "metadata": {},
   "source": [
    "The following cell loads in the data, and makes it more useable"
   ]
  },
  {
   "cell_type": "code",
   "execution_count": 137,
   "metadata": {},
   "outputs": [],
   "source": [
    "masterDF = pd.read_csv(\"ActBlueBig.csv\")\n",
    "masterDF['Datetime'] = pd.to_datetime(masterDF['Datetime'])"
   ]
  },
  {
   "cell_type": "markdown",
   "metadata": {},
   "source": [
    "We then aggrigate the data by day to find the minimum and maximum value of each day."
   ]
  },
  {
   "cell_type": "code",
   "execution_count": 138,
   "metadata": {},
   "outputs": [],
   "source": [
    "masterDF['day'] = masterDF['Datetime'].dt.date\n",
    "dailyMinDF = masterDF.groupby('day').min()\n",
    "dailyMaxDF = masterDF.groupby('day').max()\n",
    "dailyMinDF.rename(columns = {' Amount':'daily_min'}, inplace = True)\n",
    "dailyMaxDF.rename(columns = {' Amount':'daily_max'}, inplace = True)\n",
    "dailyMinMax = pd.DataFrame(data = [dailyMaxDF[ 'daily_max'], dailyMinDF['daily_min']])\n",
    "dailyMinMax = dailyMinMax.transpose()"
   ]
  },
  {
   "cell_type": "code",
   "execution_count": 139,
   "metadata": {},
   "outputs": [],
   "source": [
    "dailyMinMax['daily_total'] = dailyMinMax['daily_max'] - dailyMinMax['daily_min']\n",
    "dailyMinMax['day'] = dailyMinMax.index"
   ]
  },
  {
   "cell_type": "markdown",
   "metadata": {},
   "source": [
    "With the same methodology used to create the daily totals, we now create monthly totals"
   ]
  },
  {
   "cell_type": "code",
   "execution_count": 142,
   "metadata": {},
   "outputs": [],
   "source": [
    "masterDF['month'] = masterDF['Datetime'].dt.month\n",
    "monthlyMinDF = masterDF.groupby('month').min()\n",
    "monthlyMaxDF = masterDF.groupby('month').max()\n",
    "monthlyMinDF.rename(columns = {' Amount':'monthly_min'}, inplace = True)\n",
    "monthlyMaxDF.rename(columns = {' Amount':'monthly_max'}, inplace = True)\n",
    "monthlyMinMax = pd.DataFrame(data = [monthlyMaxDF[ 'monthly_max'], monthlyMinDF['monthly_min']])\n",
    "monthlyMinMax = monthlyMinMax.transpose()"
   ]
  },
  {
   "cell_type": "code",
   "execution_count": 146,
   "metadata": {},
   "outputs": [],
   "source": [
    "monthlyMinMax['monthly_total'] = monthlyMinMax['monthly_max'] - monthlyMinMax['monthly_min']\n",
    "monthlyMinMax['month'] = monthlyMinMax.index"
   ]
  },
  {
   "cell_type": "code",
   "execution_count": null,
   "metadata": {},
   "outputs": [],
   "source": []
  }
 ],
 "metadata": {
  "kernelspec": {
   "display_name": "Python 3",
   "language": "python",
   "name": "python3"
  },
  "language_info": {
   "codemirror_mode": {
    "name": "ipython",
    "version": 3
   },
   "file_extension": ".py",
   "mimetype": "text/x-python",
   "name": "python",
   "nbconvert_exporter": "python",
   "pygments_lexer": "ipython3",
   "version": "3.9.13"
  }
 },
 "nbformat": 4,
 "nbformat_minor": 2
}
